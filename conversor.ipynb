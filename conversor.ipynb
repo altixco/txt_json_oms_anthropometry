{
 "cells": [
  {
   "cell_type": "code",
   "execution_count": 1,
   "metadata": {},
   "outputs": [],
   "source": [
    "import numpy as np\n",
    "import pandas as pd"
   ]
  },
  {
   "cell_type": "code",
   "execution_count": 2,
   "metadata": {},
   "outputs": [],
   "source": [
    "file_locations_for_age = [\n",
    "    {'txt': 'txt/wfa_boys_z_exp.txt', 'json': 'json/ZScores_PE_0_5_niños.json'},\n",
    "    {'txt': 'txt/wfa_girls_z_exp.txt', 'json': 'json/ZScores_PE_0_5_niñas.json'},\n",
    "    {'txt': 'txt/lhfa_boys_z_exp.txt', 'json': 'json/ZScores_TE_0_5_niños.json'},\n",
    "    {'txt': 'txt/lhfa_girls_z_exp.txt', 'json': 'json/ZScores_TE_0_5_niñas.json'},\n",
    "    {'txt': 'txt/bfa_boys_z_exp.txt', 'json': 'json/ZScores_IMCE_0_5_niños.json'},\n",
    "    {'txt': 'txt/bfa_girls_z_exp.txt', 'json': 'json/ZScores_IMCE_0_5_niñas.json'},\n",
    "    {'txt': 'txt/acfa_boys_z_exp.txt', 'json': 'json/ZScores_CBE_0_5_niños.json'},\n",
    "    {'txt': 'txt/acfa_girls_z_exp.txt', 'json': 'json/ZScores_CBE_0_5_niñas.json'},\n",
    "    {'txt': 'txt/hcfa_boys_z_exp.txt', 'json': 'json/ZScores_PCE_0_5_niños.json'},\n",
    "    {'txt': 'txt/hcfa_girls_z_exp.txt', 'json': 'json/ZScores_PCE_0_5_niñas.json'}\n",
    "]\n",
    "\n",
    "file_locations_for_height = [\n",
    "    {'txt': 'txt/wfh_boys_z_exp.txt', 'json': 'json/ZScores_PT_2_5_niños.json'},\n",
    "    {'txt': 'txt/wfh_girls_z_exp.txt', 'json': 'json/ZScores_PT_2_5_niñas.json'},\n",
    "    {'txt': 'txt/wfl_boys_z_exp.txt', 'json': 'json/ZScores_PT_0_2_niños.json'},\n",
    "    {'txt': 'txt/wfl_girls_z_exp.txt', 'json': 'json/ZScores_PT_0_2_niñas.json'}\n",
    "]"
   ]
  },
  {
   "cell_type": "code",
   "execution_count": 3,
   "metadata": {},
   "outputs": [],
   "source": [
    "column_names = ['Day', 'SD4neg', 'SD3neg', 'SD2neg', 'SD1neg', 'SD0', 'SD1', 'SD2', 'SD3', 'SD4']\n",
    "for data in file_locations_for_age:\n",
    "    file_as_array = np.loadtxt(data['txt'], skiprows=1)\n",
    "    pandas_dataframe = pd.DataFrame(file_as_array, columns=column_names)\n",
    "    pandas_dataframe['Day'] = pandas_dataframe['Day'].apply(lambda x: int(x))\n",
    "    pandas_dataframe.to_json(data['json'], orient='records')\n",
    "    \n",
    "column_names = ['Height', 'SD4neg', 'SD3neg', 'SD2neg', 'SD1neg', 'SD0', 'SD1', 'SD2', 'SD3', 'SD4']\n",
    "for data in file_locations_for_height:\n",
    "    file_as_array = np.loadtxt(data['txt'], skiprows=1)\n",
    "    pandas_dataframe = pd.DataFrame(file_as_array, columns=column_names)\n",
    "    pandas_dataframe.to_json(data['json'], orient='records')"
   ]
  }
 ],
 "metadata": {
  "kernelspec": {
   "display_name": "Python 3",
   "language": "python",
   "name": "python3"
  },
  "language_info": {
   "codemirror_mode": {
    "name": "ipython",
    "version": 3
   },
   "file_extension": ".py",
   "mimetype": "text/x-python",
   "name": "python",
   "nbconvert_exporter": "python",
   "pygments_lexer": "ipython3",
   "version": "3.7.0"
  }
 },
 "nbformat": 4,
 "nbformat_minor": 2
}
